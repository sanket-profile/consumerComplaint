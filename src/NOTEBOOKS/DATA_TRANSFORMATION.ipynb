{
  "nbformat": 4,
  "nbformat_minor": 0,
  "metadata": {
    "colab": {
      "provenance": []
    },
    "kernelspec": {
      "name": "python3",
      "display_name": "Python 3"
    },
    "language_info": {
      "name": "python"
    }
  },
  "cells": [
    {
      "cell_type": "markdown",
      "source": [
        "#AFTER WE HAVE DONE BASIC DATA CLEANING IN EDA FILE WE CAN PERFORM DATA TRANSFORMATION"
      ],
      "metadata": {
        "id": "bXvxjs2s3-Mq"
      }
    },
    {
      "cell_type": "markdown",
      "source": [
        ":"
      ],
      "metadata": {
        "id": "iTYxeRac4Jg6"
      }
    },
    {
      "cell_type": "markdown",
      "source": [
        "# TEXT PREPROCESSING AND DOWNSAMPLING"
      ],
      "metadata": {
        "id": "e9cK_n-24K9T"
      }
    },
    {
      "cell_type": "markdown",
      "source": [
        "##Downsampling the data"
      ],
      "metadata": {
        "id": "mjLF_LYV4ORO"
      }
    },
    {
      "cell_type": "markdown",
      "source": [
        "Since our data has Credit reporting as majority class . This could make model more bias towards credit reporting.So we will downsample the data.\n",
        "\n",
        "\n",
        "We will split the original data into training and test sets. This ensures that the test set remains representative of the original data distribution and avoids information leakage.\n",
        "And then perform downsampling only on the training data to balance the class distribution."
      ],
      "metadata": {
        "id": "q7QTAqhi4RLs"
      }
    },
    {
      "cell_type": "markdown",
      "source": [
        "test data will reflect the original class distribution, which might mean it contains more examples from the majority class. This is typically desired because it ensures that your test set is representative of the real-world scenario you are trying to model."
      ],
      "metadata": {
        "id": "36Mk65eR4T1J"
      }
    },
    {
      "cell_type": "markdown",
      "source": [
        "### We will use RandomUnderSampler"
      ],
      "metadata": {
        "id": "ojG0e-bD4XFv"
      }
    },
    {
      "cell_type": "markdown",
      "source": [
        "The RandomUnderSampler from the imblearn (imbalanced-learn) library is a technique used to handle class imbalance by randomly undersampling the majority class(es) to balance the class distribution in the dataset."
      ],
      "metadata": {
        "id": "593jsmDk4a0B"
      }
    },
    {
      "cell_type": "code",
      "execution_count": null,
      "metadata": {
        "id": "9edEEu8V34HD"
      },
      "outputs": [],
      "source": [
        "from sklearn.model_selection import train_test_split\n",
        "from imblearn.under_sampling import RandomUnderSampler\n"
      ]
    },
    {
      "cell_type": "code",
      "source": [
        "X = df_cleaned['Consumer Complaint']\n",
        "y = df_cleaned['Product']"
      ],
      "metadata": {
        "id": "98OC8tyE4dR_"
      },
      "execution_count": null,
      "outputs": []
    },
    {
      "cell_type": "code",
      "source": [
        "X_train, X_test, y_train, y_test = train_test_split(X, y, test_size=0.2, random_state=42)"
      ],
      "metadata": {
        "id": "gsz1qfyq4h3L"
      },
      "execution_count": null,
      "outputs": []
    },
    {
      "cell_type": "code",
      "source": [
        "train_data = pd.DataFrame({'text': X_train, 'label': y_train})\n",
        "            desired_samples_train = {\n",
        "                'Credit Reporting/Repair Services/Consumer Reports': 300000,\n",
        "                'Debt Collection': len(train_data[train_data['label'] == 'Debt Collection']),\n",
        "                'Credit/Prepaid Cards': len(train_data[train_data['label'] == 'Credit/Prepaid Cards']),\n",
        "                'Mortgage': len(train_data[train_data['label'] == 'Mortgage']),\n",
        "                'Bank Account Services': len(train_data[train_data['label'] == 'Bank Account Services']),\n",
        "                'Student loan': len(train_data[train_data['label'] == 'Student loan']),\n",
        "                'Money Services/Transfer': len(train_data[train_data['label'] == 'Money Services/Transfer']),\n",
        "                'Personal Loan': len(train_data[train_data['label'] == 'Personal Loan']),\n",
        "                'Vehicle loan or lease': len(train_data[train_data['label'] == 'Vehicle loan or lease']),\n",
        "                'Other financial service': len(train_data[train_data['label'] == 'Other financial service'])  # Keep 105 examples for this class\n",
        "            }\n",
        "rus = RandomUnderSampler(sampling_strategy = desired_samples_train,random_state=42)\n",
        "X_train_res, y_train_res = rus.fit_resample(train_data[['text']], train_data['label'])\n",
        "X_train_res = X_train_res['text']"
      ],
      "metadata": {
        "id": "dAFnOzXa4tXO"
      },
      "execution_count": null,
      "outputs": []
    },
    {
      "cell_type": "code",
      "source": [
        "test_data = pd.DataFrame({'text': X_test, 'label': y_test})\n",
        "            desired_samples_test = {\n",
        "                'Credit Reporting/Repair Services/Consumer Reports': 32302,\n",
        "                'Debt Collection': len(test_data[test_data['label'] == 'Debt Collection']),\n",
        "                'Credit/Prepaid Cards': len(test_data[test_data['label'] == 'Credit/Prepaid Cards']),\n",
        "                'Mortgage': len(test_data[test_data['label'] == 'Mortgage']),\n",
        "                'Bank Account Services': len(test_data[test_data['label'] == 'Bank Account Services']),\n",
        "                'Student loan': len(test_data[test_data['label'] == 'Student loan']),\n",
        "                'Money Services/Transfer': len(test_data[test_data['label'] == 'Money Services/Transfer']),\n",
        "                'Personal Loan': len(test_data[test_data['label'] == 'Personal Loan']),\n",
        "                'Vehicle loan or lease': len(test_data[test_data['label'] == 'Vehicle loan or lease']),\n",
        "                'Other financial service': len(test_data[test_data['label'] == 'Other financial service'])  # Keep 105 examples for this class\n",
        "            }\n",
        "rus = RandomUnderSampler(sampling_strategy = desired_samples_test,random_state=42)\n",
        "X_test_res, y_test_res = rus.fit_resample(test_data[['text']], test_data['label'])\n",
        "X_test_res = X_test_res['text']"
      ],
      "metadata": {
        "id": "e-1Xqdzd4tVp"
      },
      "execution_count": null,
      "outputs": []
    },
    {
      "cell_type": "markdown",
      "source": [
        "## Downsampling is done lets preprocess the data"
      ],
      "metadata": {
        "id": "VJNCYGMa45UF"
      }
    },
    {
      "cell_type": "code",
      "source": [
        "def preprocess_text(text):\n",
        "    text = re.sub(r\"\\n\", \" \", text)\n",
        "    text = re.sub(r\"\\d\", \" \", text)\n",
        "    text = re.sub(r\"<.*?>+\", \"\", text)\n",
        "    text = re.sub(\"\\[.*?\\]\", \"\", text)\n",
        "    text = re.sub(r\"\"\"[.,/\"\"/'':-]\"\"\", '', text) #Removes special character from the text\n",
        "    text = re.sub(r'xxxx', '', text) # Removes xxxx pattern from the text\n",
        "    text = re.sub(r'[\\{\\}\\$]', '', text)  # Remove curly braces and dollar signs\n",
        "    text = re.sub(r'\\s+', ' ', text)  # Replace multiple spaces with single space\n",
        "    text = text.lower()\n",
        "    return text"
      ],
      "metadata": {
        "id": "YRTViMkB4tTB"
      },
      "execution_count": null,
      "outputs": []
    },
    {
      "cell_type": "code",
      "source": [
        "X_train_res= X_train_res.apply(preprocess_text)\n",
        "X_test_res= X_test_res.apply(preprocess_text)"
      ],
      "metadata": {
        "id": "UljCK6084tRB"
      },
      "execution_count": null,
      "outputs": []
    },
    {
      "cell_type": "markdown",
      "source": [
        "##Lets Vectorize the data and label encode the data"
      ],
      "metadata": {
        "id": "5XRGf9GV5LKV"
      }
    },
    {
      "cell_type": "code",
      "source": [
        "tfidf = TfidfVectorizer(sublinear_tf=True, min_df=5,\n",
        "                        stop_words='english')\n",
        "\n",
        "X_train_tfidf = tfidf.fit_transform(X_train_res)\n",
        "X_test_tfidf = tfidf.transform(X_test_res)\n",
        "\n",
        "logger.info(\"Converted text data into numerical vector representation using TF-IDF\")\n",
        "logger.info(\"Converting ylabels to classes using LabelEncoder\")\n",
        "\n",
        "le = LabelEncoder()\n",
        "y_train_encoded = le.fit_transform(y_train_res)\n",
        "y_test_encoded = le.transform(y_test_res)"
      ],
      "metadata": {
        "id": "-lM1Ahnx4tOJ"
      },
      "execution_count": null,
      "outputs": []
    },
    {
      "cell_type": "markdown",
      "source": [
        "#OUR DATA TRANSFORMATION HAS BEEN COMPLETED"
      ],
      "metadata": {
        "id": "rTU1e55Y5Wd6"
      }
    },
    {
      "cell_type": "code",
      "source": [],
      "metadata": {
        "id": "of4-xy5Z4tDH"
      },
      "execution_count": null,
      "outputs": []
    },
    {
      "cell_type": "code",
      "source": [],
      "metadata": {
        "id": "MWiR_xy_4s4T"
      },
      "execution_count": null,
      "outputs": []
    }
  ]
}